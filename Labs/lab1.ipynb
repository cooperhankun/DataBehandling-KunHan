{
 "cells": [
  {
   "cell_type": "markdown",
   "metadata": {},
   "source": [
    "## Import packages for analysis"
   ]
  },
  {
   "cell_type": "code",
   "execution_count": 215,
   "metadata": {},
   "outputs": [],
   "source": [
    "import pandas as pd\n",
    "import numpy as np\n",
    "import seaborn as sns\n",
    "import matplotlib.pyplot as plt\n",
    "import plotly_express as px"
   ]
  },
  {
   "cell_type": "markdown",
   "metadata": {},
   "source": [
    "# Uppgift 1 - uppvärmning covid-19 data"
   ]
  },
  {
   "cell_type": "markdown",
   "metadata": {},
   "source": [
    "a) Gör initial dataanalys för att snabbt få en överblick över datasetet. Använd metoder som ex. info(),\n",
    "describe(), value_counts(), head(), columns, index för att snabbt få en överblick.\n"
   ]
  },
  {
   "cell_type": "code",
   "execution_count": 216,
   "metadata": {},
   "outputs": [
    {
     "data": {
      "text/html": [
       "<div>\n",
       "<style scoped>\n",
       "    .dataframe tbody tr th:only-of-type {\n",
       "        vertical-align: middle;\n",
       "    }\n",
       "\n",
       "    .dataframe tbody tr th {\n",
       "        vertical-align: top;\n",
       "    }\n",
       "\n",
       "    .dataframe thead th {\n",
       "        text-align: right;\n",
       "    }\n",
       "</style>\n",
       "<table border=\"1\" class=\"dataframe\">\n",
       "  <thead>\n",
       "    <tr style=\"text-align: right;\">\n",
       "      <th></th>\n",
       "      <th>år</th>\n",
       "      <th>veckonummer</th>\n",
       "      <th>Antal_fall_vecka</th>\n",
       "      <th>Antal_fall_100000inv_vecka</th>\n",
       "      <th>Antal_fall_100000inv_14dagar</th>\n",
       "      <th>Kum_antal_fall</th>\n",
       "      <th>Kum_fall_100000inv</th>\n",
       "      <th>Antal_nyaintensivvårdade_vecka</th>\n",
       "      <th>Kum_antal_intensivvårdade</th>\n",
       "      <th>Antal_avlidna_vecka</th>\n",
       "      <th>Antal_avlidna_milj_inv_vecka</th>\n",
       "      <th>Kum_antal_avlidna</th>\n",
       "      <th>Kum_antal_avlidna_milj_inv</th>\n",
       "    </tr>\n",
       "  </thead>\n",
       "  <tbody>\n",
       "    <tr>\n",
       "      <th>0</th>\n",
       "      <td>2020</td>\n",
       "      <td>6</td>\n",
       "      <td>1</td>\n",
       "      <td>0</td>\n",
       "      <td>0</td>\n",
       "      <td>1</td>\n",
       "      <td>0</td>\n",
       "      <td>0</td>\n",
       "      <td>0</td>\n",
       "      <td>0</td>\n",
       "      <td>0.0</td>\n",
       "      <td>0</td>\n",
       "      <td>0.0</td>\n",
       "    </tr>\n",
       "    <tr>\n",
       "      <th>1</th>\n",
       "      <td>2020</td>\n",
       "      <td>7</td>\n",
       "      <td>0</td>\n",
       "      <td>0</td>\n",
       "      <td>0</td>\n",
       "      <td>1</td>\n",
       "      <td>0</td>\n",
       "      <td>0</td>\n",
       "      <td>0</td>\n",
       "      <td>0</td>\n",
       "      <td>0.0</td>\n",
       "      <td>0</td>\n",
       "      <td>0.0</td>\n",
       "    </tr>\n",
       "    <tr>\n",
       "      <th>2</th>\n",
       "      <td>2020</td>\n",
       "      <td>8</td>\n",
       "      <td>0</td>\n",
       "      <td>0</td>\n",
       "      <td>0</td>\n",
       "      <td>1</td>\n",
       "      <td>0</td>\n",
       "      <td>0</td>\n",
       "      <td>0</td>\n",
       "      <td>0</td>\n",
       "      <td>0.0</td>\n",
       "      <td>0</td>\n",
       "      <td>0.0</td>\n",
       "    </tr>\n",
       "    <tr>\n",
       "      <th>3</th>\n",
       "      <td>2020</td>\n",
       "      <td>9</td>\n",
       "      <td>13</td>\n",
       "      <td>0</td>\n",
       "      <td>0</td>\n",
       "      <td>14</td>\n",
       "      <td>0</td>\n",
       "      <td>0</td>\n",
       "      <td>0</td>\n",
       "      <td>0</td>\n",
       "      <td>0.0</td>\n",
       "      <td>0</td>\n",
       "      <td>0.0</td>\n",
       "    </tr>\n",
       "    <tr>\n",
       "      <th>4</th>\n",
       "      <td>2020</td>\n",
       "      <td>10</td>\n",
       "      <td>211</td>\n",
       "      <td>2</td>\n",
       "      <td>2</td>\n",
       "      <td>225</td>\n",
       "      <td>2</td>\n",
       "      <td>3</td>\n",
       "      <td>3</td>\n",
       "      <td>0</td>\n",
       "      <td>0.0</td>\n",
       "      <td>0</td>\n",
       "      <td>0.0</td>\n",
       "    </tr>\n",
       "  </tbody>\n",
       "</table>\n",
       "</div>"
      ],
      "text/plain": [
       "     år  veckonummer  Antal_fall_vecka  Antal_fall_100000inv_vecka  \\\n",
       "0  2020            6                 1                           0   \n",
       "1  2020            7                 0                           0   \n",
       "2  2020            8                 0                           0   \n",
       "3  2020            9                13                           0   \n",
       "4  2020           10               211                           2   \n",
       "\n",
       "   Antal_fall_100000inv_14dagar  Kum_antal_fall  Kum_fall_100000inv  \\\n",
       "0                             0               1                   0   \n",
       "1                             0               1                   0   \n",
       "2                             0               1                   0   \n",
       "3                             0              14                   0   \n",
       "4                             2             225                   2   \n",
       "\n",
       "   Antal_nyaintensivvårdade_vecka  Kum_antal_intensivvårdade  \\\n",
       "0                               0                          0   \n",
       "1                               0                          0   \n",
       "2                               0                          0   \n",
       "3                               0                          0   \n",
       "4                               3                          3   \n",
       "\n",
       "   Antal_avlidna_vecka  Antal_avlidna_milj_inv_vecka  Kum_antal_avlidna  \\\n",
       "0                    0                           0.0                  0   \n",
       "1                    0                           0.0                  0   \n",
       "2                    0                           0.0                  0   \n",
       "3                    0                           0.0                  0   \n",
       "4                    0                           0.0                  0   \n",
       "\n",
       "   Kum_antal_avlidna_milj_inv  \n",
       "0                         0.0  \n",
       "1                         0.0  \n",
       "2                         0.0  \n",
       "3                         0.0  \n",
       "4                         0.0  "
      ]
     },
     "execution_count": 216,
     "metadata": {},
     "output_type": "execute_result"
    }
   ],
   "source": [
    "# Load in and look over the dataset:\n",
    "\n",
    "covid19 = pd.read_excel(\"Folkhalsomyndigheten_Covid19.xlsx\", sheet_name=\"Veckodata Riket\")\n",
    "# covid19.describe()\n",
    "# covid19.info()\n",
    "# covid19.value_counts()\n",
    "covid19.head()"
   ]
  },
  {
   "cell_type": "markdown",
   "metadata": {},
   "source": [
    "b) Slå ihop kolumnerna \"år\" och \"veckonummer\" till en kolumn med namn \"Vecka\" med följande format:\n"
   ]
  },
  {
   "cell_type": "code",
   "execution_count": 217,
   "metadata": {},
   "outputs": [
    {
     "data": {
      "text/html": [
       "<div>\n",
       "<style scoped>\n",
       "    .dataframe tbody tr th:only-of-type {\n",
       "        vertical-align: middle;\n",
       "    }\n",
       "\n",
       "    .dataframe tbody tr th {\n",
       "        vertical-align: top;\n",
       "    }\n",
       "\n",
       "    .dataframe thead th {\n",
       "        text-align: right;\n",
       "    }\n",
       "</style>\n",
       "<table border=\"1\" class=\"dataframe\">\n",
       "  <thead>\n",
       "    <tr style=\"text-align: right;\">\n",
       "      <th></th>\n",
       "      <th>år</th>\n",
       "      <th>veckonummer</th>\n",
       "      <th>Antal_fall_vecka</th>\n",
       "      <th>Antal_fall_100000inv_vecka</th>\n",
       "      <th>Antal_fall_100000inv_14dagar</th>\n",
       "      <th>Kum_antal_fall</th>\n",
       "      <th>Kum_fall_100000inv</th>\n",
       "      <th>Antal_nyaintensivvårdade_vecka</th>\n",
       "      <th>Kum_antal_intensivvårdade</th>\n",
       "      <th>Antal_avlidna_vecka</th>\n",
       "      <th>Antal_avlidna_milj_inv_vecka</th>\n",
       "      <th>Kum_antal_avlidna</th>\n",
       "      <th>Kum_antal_avlidna_milj_inv</th>\n",
       "      <th>Vecka</th>\n",
       "    </tr>\n",
       "  </thead>\n",
       "  <tbody>\n",
       "    <tr>\n",
       "      <th>0</th>\n",
       "      <td>2020</td>\n",
       "      <td>6</td>\n",
       "      <td>1</td>\n",
       "      <td>0</td>\n",
       "      <td>0</td>\n",
       "      <td>1</td>\n",
       "      <td>0</td>\n",
       "      <td>0</td>\n",
       "      <td>0</td>\n",
       "      <td>0</td>\n",
       "      <td>0.0</td>\n",
       "      <td>0</td>\n",
       "      <td>0.000000</td>\n",
       "      <td>2020v6</td>\n",
       "    </tr>\n",
       "    <tr>\n",
       "      <th>1</th>\n",
       "      <td>2020</td>\n",
       "      <td>7</td>\n",
       "      <td>0</td>\n",
       "      <td>0</td>\n",
       "      <td>0</td>\n",
       "      <td>1</td>\n",
       "      <td>0</td>\n",
       "      <td>0</td>\n",
       "      <td>0</td>\n",
       "      <td>0</td>\n",
       "      <td>0.0</td>\n",
       "      <td>0</td>\n",
       "      <td>0.000000</td>\n",
       "      <td>2020v7</td>\n",
       "    </tr>\n",
       "    <tr>\n",
       "      <th>2</th>\n",
       "      <td>2020</td>\n",
       "      <td>8</td>\n",
       "      <td>0</td>\n",
       "      <td>0</td>\n",
       "      <td>0</td>\n",
       "      <td>1</td>\n",
       "      <td>0</td>\n",
       "      <td>0</td>\n",
       "      <td>0</td>\n",
       "      <td>0</td>\n",
       "      <td>0.0</td>\n",
       "      <td>0</td>\n",
       "      <td>0.000000</td>\n",
       "      <td>2020v8</td>\n",
       "    </tr>\n",
       "    <tr>\n",
       "      <th>3</th>\n",
       "      <td>2020</td>\n",
       "      <td>9</td>\n",
       "      <td>13</td>\n",
       "      <td>0</td>\n",
       "      <td>0</td>\n",
       "      <td>14</td>\n",
       "      <td>0</td>\n",
       "      <td>0</td>\n",
       "      <td>0</td>\n",
       "      <td>0</td>\n",
       "      <td>0.0</td>\n",
       "      <td>0</td>\n",
       "      <td>0.000000</td>\n",
       "      <td>2020v9</td>\n",
       "    </tr>\n",
       "    <tr>\n",
       "      <th>4</th>\n",
       "      <td>2020</td>\n",
       "      <td>10</td>\n",
       "      <td>211</td>\n",
       "      <td>2</td>\n",
       "      <td>2</td>\n",
       "      <td>225</td>\n",
       "      <td>2</td>\n",
       "      <td>3</td>\n",
       "      <td>3</td>\n",
       "      <td>0</td>\n",
       "      <td>0.0</td>\n",
       "      <td>0</td>\n",
       "      <td>0.000000</td>\n",
       "      <td>2020v10</td>\n",
       "    </tr>\n",
       "    <tr>\n",
       "      <th>...</th>\n",
       "      <td>...</td>\n",
       "      <td>...</td>\n",
       "      <td>...</td>\n",
       "      <td>...</td>\n",
       "      <td>...</td>\n",
       "      <td>...</td>\n",
       "      <td>...</td>\n",
       "      <td>...</td>\n",
       "      <td>...</td>\n",
       "      <td>...</td>\n",
       "      <td>...</td>\n",
       "      <td>...</td>\n",
       "      <td>...</td>\n",
       "      <td>...</td>\n",
       "    </tr>\n",
       "    <tr>\n",
       "      <th>84</th>\n",
       "      <td>2021</td>\n",
       "      <td>37</td>\n",
       "      <td>6266</td>\n",
       "      <td>60</td>\n",
       "      <td>137</td>\n",
       "      <td>1145764</td>\n",
       "      <td>11039</td>\n",
       "      <td>24</td>\n",
       "      <td>7823</td>\n",
       "      <td>52</td>\n",
       "      <td>5.0</td>\n",
       "      <td>14807</td>\n",
       "      <td>1426.599976</td>\n",
       "      <td>2021v37</td>\n",
       "    </tr>\n",
       "    <tr>\n",
       "      <th>85</th>\n",
       "      <td>2021</td>\n",
       "      <td>38</td>\n",
       "      <td>4298</td>\n",
       "      <td>41</td>\n",
       "      <td>101</td>\n",
       "      <td>1150062</td>\n",
       "      <td>11080</td>\n",
       "      <td>21</td>\n",
       "      <td>7844</td>\n",
       "      <td>40</td>\n",
       "      <td>3.9</td>\n",
       "      <td>14847</td>\n",
       "      <td>1430.400024</td>\n",
       "      <td>2021v38</td>\n",
       "    </tr>\n",
       "    <tr>\n",
       "      <th>86</th>\n",
       "      <td>2021</td>\n",
       "      <td>39</td>\n",
       "      <td>4241</td>\n",
       "      <td>41</td>\n",
       "      <td>82</td>\n",
       "      <td>1154303</td>\n",
       "      <td>11121</td>\n",
       "      <td>17</td>\n",
       "      <td>7861</td>\n",
       "      <td>37</td>\n",
       "      <td>3.6</td>\n",
       "      <td>14884</td>\n",
       "      <td>1434.000000</td>\n",
       "      <td>2021v39</td>\n",
       "    </tr>\n",
       "    <tr>\n",
       "      <th>87</th>\n",
       "      <td>2021</td>\n",
       "      <td>40</td>\n",
       "      <td>4141</td>\n",
       "      <td>40</td>\n",
       "      <td>81</td>\n",
       "      <td>1158444</td>\n",
       "      <td>11161</td>\n",
       "      <td>15</td>\n",
       "      <td>7876</td>\n",
       "      <td>42</td>\n",
       "      <td>4.0</td>\n",
       "      <td>14926</td>\n",
       "      <td>1438.099976</td>\n",
       "      <td>2021v40</td>\n",
       "    </tr>\n",
       "    <tr>\n",
       "      <th>88</th>\n",
       "      <td>2021</td>\n",
       "      <td>41</td>\n",
       "      <td>4062</td>\n",
       "      <td>39</td>\n",
       "      <td>79</td>\n",
       "      <td>1162506</td>\n",
       "      <td>11200</td>\n",
       "      <td>10</td>\n",
       "      <td>7886</td>\n",
       "      <td>18</td>\n",
       "      <td>1.7</td>\n",
       "      <td>14944</td>\n",
       "      <td>1439.800049</td>\n",
       "      <td>2021v41</td>\n",
       "    </tr>\n",
       "  </tbody>\n",
       "</table>\n",
       "<p>89 rows × 14 columns</p>\n",
       "</div>"
      ],
      "text/plain": [
       "      år veckonummer  Antal_fall_vecka  Antal_fall_100000inv_vecka  \\\n",
       "0   2020           6                 1                           0   \n",
       "1   2020           7                 0                           0   \n",
       "2   2020           8                 0                           0   \n",
       "3   2020           9                13                           0   \n",
       "4   2020          10               211                           2   \n",
       "..   ...         ...               ...                         ...   \n",
       "84  2021          37              6266                          60   \n",
       "85  2021          38              4298                          41   \n",
       "86  2021          39              4241                          41   \n",
       "87  2021          40              4141                          40   \n",
       "88  2021          41              4062                          39   \n",
       "\n",
       "    Antal_fall_100000inv_14dagar  Kum_antal_fall  Kum_fall_100000inv  \\\n",
       "0                              0               1                   0   \n",
       "1                              0               1                   0   \n",
       "2                              0               1                   0   \n",
       "3                              0              14                   0   \n",
       "4                              2             225                   2   \n",
       "..                           ...             ...                 ...   \n",
       "84                           137         1145764               11039   \n",
       "85                           101         1150062               11080   \n",
       "86                            82         1154303               11121   \n",
       "87                            81         1158444               11161   \n",
       "88                            79         1162506               11200   \n",
       "\n",
       "    Antal_nyaintensivvårdade_vecka  Kum_antal_intensivvårdade  \\\n",
       "0                                0                          0   \n",
       "1                                0                          0   \n",
       "2                                0                          0   \n",
       "3                                0                          0   \n",
       "4                                3                          3   \n",
       "..                             ...                        ...   \n",
       "84                              24                       7823   \n",
       "85                              21                       7844   \n",
       "86                              17                       7861   \n",
       "87                              15                       7876   \n",
       "88                              10                       7886   \n",
       "\n",
       "    Antal_avlidna_vecka  Antal_avlidna_milj_inv_vecka  Kum_antal_avlidna  \\\n",
       "0                     0                           0.0                  0   \n",
       "1                     0                           0.0                  0   \n",
       "2                     0                           0.0                  0   \n",
       "3                     0                           0.0                  0   \n",
       "4                     0                           0.0                  0   \n",
       "..                  ...                           ...                ...   \n",
       "84                   52                           5.0              14807   \n",
       "85                   40                           3.9              14847   \n",
       "86                   37                           3.6              14884   \n",
       "87                   42                           4.0              14926   \n",
       "88                   18                           1.7              14944   \n",
       "\n",
       "    Kum_antal_avlidna_milj_inv    Vecka  \n",
       "0                     0.000000   2020v6  \n",
       "1                     0.000000   2020v7  \n",
       "2                     0.000000   2020v8  \n",
       "3                     0.000000   2020v9  \n",
       "4                     0.000000  2020v10  \n",
       "..                         ...      ...  \n",
       "84                 1426.599976  2021v37  \n",
       "85                 1430.400024  2021v38  \n",
       "86                 1434.000000  2021v39  \n",
       "87                 1438.099976  2021v40  \n",
       "88                 1439.800049  2021v41  \n",
       "\n",
       "[89 rows x 14 columns]"
      ]
     },
     "execution_count": 217,
     "metadata": {},
     "output_type": "execute_result"
    }
   ],
   "source": [
    "covid19 = covid19.astype({\"veckonummer\": str, \"år\": str})\n",
    "covid19[\"Vecka\"] = covid19[\"år\"] + \"v\" + covid19[\"veckonummer\"]\n",
    "covid19_vecka = pd.DataFrame(covid19.iloc[: , 13])\n",
    "covid19\n"
   ]
  },
  {
   "cell_type": "markdown",
   "metadata": {},
   "source": [
    "För deluppgifterna c-f, använd både Seaborn och Plotly express. För Seaborn, använd subplots så du får 2x2\n",
    "grid med graferna.\n",
    "\n",
    "- c) Rita en linjediagram som visar avlidna fall per vecka från 2020v6 till nu\n",
    "\n"
   ]
  },
  {
   "cell_type": "code",
   "execution_count": 257,
   "metadata": {},
   "outputs": [
    {
     "data": {
      "text/plain": [
       "Text(0, 0.5, 'Number of deaths')"
      ]
     },
     "execution_count": 257,
     "metadata": {},
     "output_type": "execute_result"
    },
    {
     "data": {
      "image/png": "[encoded data removed]",
      "text/plain": [
       "<Figure size 432x288 with 1 Axes>"
      ]
     },
     "metadata": {
      "needs_background": "light"
     },
     "output_type": "display_data"
    }
   ],
   "source": [
    "sns.lineplot(data = covid19, x = \"Vecka\", y = \"Antal_avlidna_vecka\", color = \"orange\").set_title(\"Number of deaths per week from 2020v6 untill now\")\n",
    "plt.xlabel(\"Weeks\")\n",
    "plt.ylabel(\"Number of deaths\")\n"
   ]
  },
  {
   "cell_type": "markdown",
   "metadata": {},
   "source": [
    "- d) Rita en linjediagram som visar nya fall per vecka från 2020v6 till nu."
   ]
  },
  {
   "cell_type": "code",
   "execution_count": 231,
   "metadata": {},
   "outputs": [
    {
     "data": {
      "text/plain": [
       "Text(0, 0.5, 'Number of new falls')"
      ]
     },
     "execution_count": 231,
     "metadata": {},
     "output_type": "execute_result"
    },
    {
     "data": {
      "image/png": "[encoded data removed]",
      "text/plain": [
       "<Figure size 432x288 with 1 Axes>"
      ]
     },
     "metadata": {
      "needs_background": "light"
     },
     "output_type": "display_data"
    }
   ],
   "source": [
    "sns.lineplot(data = covid19, x = \"Vecka\", y = \"Antal_fall_vecka\").set_title(\"Number of new falls per week from 2020v6 untill now\")\n",
    "plt.xlabel(\"Weeks\")\n",
    "plt.ylabel(\"Number of new falls\")\n"
   ]
  },
  {
   "cell_type": "markdown",
   "metadata": {},
   "source": [
    "- e) Rita linjediagram av både avlidna fall per vecka och nya fall per vecka i samma fönster från 2020v6 till nu.\n"
   ]
  },
  {
   "cell_type": "code",
   "execution_count": 247,
   "metadata": {},
   "outputs": [
    {
     "data": {
      "text/plain": [
       "<matplotlib.legend.Legend at 0x2bd5572e070>"
      ]
     },
     "execution_count": 247,
     "metadata": {},
     "output_type": "execute_result"
    },
    {
     "data": {
      "image/png": "[encoded data removed]",
      "text/plain": [
       "<Figure size 432x288 with 1 Axes>"
      ]
     },
     "metadata": {
      "needs_background": "light"
     },
     "output_type": "display_data"
    }
   ],
   "source": [
    "sns.lineplot(data = covid19, x = \"Vecka\", y = \"Antal_fall_vecka\")\n",
    "sns.lineplot(data = covid19, x = \"Vecka\", y = \"Antal_avlidna_vecka\").set_title(\"Number of new falls vs death per week from 2020v6 untill now\")\n",
    "plt.xlabel(\"Weeks\")\n",
    "plt.ylabel(\"Numbers\")\n",
    "plt.legend(labels=['number of falls', 'number of death'])"
   ]
  },
  {
   "cell_type": "markdown",
   "metadata": {},
   "source": [
    "- f) Rita linjediagram av kumulativt antal fall från 2020v6 till nu."
   ]
  },
  {
   "cell_type": "code",
   "execution_count": 258,
   "metadata": {},
   "outputs": [
    {
     "data": {
      "text/plain": [
       "Text(0, 0.5, 'Number of cumulative falls')"
      ]
     },
     "execution_count": 258,
     "metadata": {},
     "output_type": "execute_result"
    },
    {
     "data": {
      "image/png": "[encoded data removed]",
      "text/plain": [
       "<Figure size 432x288 with 1 Axes>"
      ]
     },
     "metadata": {
      "needs_background": "light"
     },
     "output_type": "display_data"
    }
   ],
   "source": [
    "sns.lineplot(data = covid19, x = \"Vecka\", y = \"Kum_antal_fall\", color = \"purple\").set_title(\"Number of cumulative falls per week from 2020v6 untill now\")\n",
    "plt.xlabel(\"Weeks\")\n",
    "plt.ylabel(\"Number of cumulative falls\")"
   ]
  }
 ],
 "metadata": {
  "interpreter": {
   "hash": "565b6c316ba45907f7805e673429f36c940e43d28197fa7d3b8c4b4d7e10672c"
  },
  "kernelspec": {
   "display_name": "Python 3.9.6 64-bit ('DataBehandling-KunHan-DAT1fURC': pipenv)",
   "name": "python3"
  },
  "language_info": {
   "codemirror_mode": {
    "name": "ipython",
    "version": 3
   },
   "file_extension": ".py",
   "mimetype": "text/x-python",
   "name": "python",
   "nbconvert_exporter": "python",
   "pygments_lexer": "ipython3",
   "version": "3.9.6"
  },
  "orig_nbformat": 4
 },
 "nbformat": 4,
 "nbformat_minor": 2
}

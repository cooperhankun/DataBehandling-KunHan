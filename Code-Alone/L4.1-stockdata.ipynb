{
 "cells": [
  {
   "cell_type": "code",
   "execution_count": 6,
   "metadata": {},
   "outputs": [],
   "source": [
    "ALPHA_API_KEY = \"C5ISPZP9QDDZUHTL\""
   ]
  },
  {
   "cell_type": "code",
   "execution_count": 21,
   "metadata": {},
   "outputs": [],
   "source": [
    "import requests\n",
    "from dotenv import load_dotenv\n",
    "import pandas as pd\n",
    "import seaborn as sns\n",
    "import matplotlib.pyplot as plt\n",
    "import os\n",
    "\n",
    "load_dotenv()\n",
    "api_key = os.getenv(\"ALPHA_API_KEY\")\n",
    "symbol = \"AAPL\"\n",
    "\n",
    "url = f\"https://www.alphavantage.co/query?function=TIME_SERIES_DAILY&symbol={symbol}&outputsize=full&apikey={api_key}\"\n",
    "\n",
    "data = requests.get(url).json()"
   ]
  },
  {
   "cell_type": "code",
   "execution_count": 29,
   "metadata": {},
   "outputs": [
    {
     "data": {
      "text/html": [
       "<div>\n",
       "<style scoped>\n",
       "    .dataframe tbody tr th:only-of-type {\n",
       "        vertical-align: middle;\n",
       "    }\n",
       "\n",
       "    .dataframe tbody tr th {\n",
       "        vertical-align: top;\n",
       "    }\n",
       "\n",
       "    .dataframe thead th {\n",
       "        text-align: right;\n",
       "    }\n",
       "</style>\n",
       "<table border=\"1\" class=\"dataframe\">\n",
       "  <thead>\n",
       "    <tr style=\"text-align: right;\">\n",
       "      <th></th>\n",
       "      <th>1. open</th>\n",
       "      <th>2. high</th>\n",
       "      <th>3. low</th>\n",
       "      <th>4. close</th>\n",
       "      <th>5. volume</th>\n",
       "    </tr>\n",
       "  </thead>\n",
       "  <tbody>\n",
       "    <tr>\n",
       "      <th>2021-10-29</th>\n",
       "      <td>147.215</td>\n",
       "      <td>149.940</td>\n",
       "      <td>146.4128</td>\n",
       "      <td>149.80</td>\n",
       "      <td>124953168.0</td>\n",
       "    </tr>\n",
       "    <tr>\n",
       "      <th>2021-10-28</th>\n",
       "      <td>149.820</td>\n",
       "      <td>153.165</td>\n",
       "      <td>149.7200</td>\n",
       "      <td>152.57</td>\n",
       "      <td>100077888.0</td>\n",
       "    </tr>\n",
       "    <tr>\n",
       "      <th>2021-10-27</th>\n",
       "      <td>149.360</td>\n",
       "      <td>149.730</td>\n",
       "      <td>148.4900</td>\n",
       "      <td>148.85</td>\n",
       "      <td>56094929.0</td>\n",
       "    </tr>\n",
       "    <tr>\n",
       "      <th>2021-10-26</th>\n",
       "      <td>149.330</td>\n",
       "      <td>150.840</td>\n",
       "      <td>149.0101</td>\n",
       "      <td>149.32</td>\n",
       "      <td>60893395.0</td>\n",
       "    </tr>\n",
       "    <tr>\n",
       "      <th>2021-10-25</th>\n",
       "      <td>148.680</td>\n",
       "      <td>149.370</td>\n",
       "      <td>147.6211</td>\n",
       "      <td>148.64</td>\n",
       "      <td>50720556.0</td>\n",
       "    </tr>\n",
       "  </tbody>\n",
       "</table>\n",
       "</div>"
      ],
      "text/plain": [
       "            1. open  2. high    3. low  4. close    5. volume\n",
       "2021-10-29  147.215  149.940  146.4128    149.80  124953168.0\n",
       "2021-10-28  149.820  153.165  149.7200    152.57  100077888.0\n",
       "2021-10-27  149.360  149.730  148.4900    148.85   56094929.0\n",
       "2021-10-26  149.330  150.840  149.0101    149.32   60893395.0\n",
       "2021-10-25  148.680  149.370  147.6211    148.64   50720556.0"
      ]
     },
     "execution_count": 29,
     "metadata": {},
     "output_type": "execute_result"
    }
   ],
   "source": [
    "df = pd.DataFrame(data[\"Time Series (Daily)\"]).transpose().astype(float)\n",
    "df.head()\n"
   ]
  },
  {
   "cell_type": "code",
   "execution_count": 30,
   "metadata": {},
   "outputs": [
    {
     "name": "stdout",
     "output_type": "stream",
     "text": [
      "<class 'pandas.core.frame.DataFrame'>\n",
      "Index: 5536 entries, 2021-10-29 to 1999-11-01\n",
      "Data columns (total 5 columns):\n",
      " #   Column     Non-Null Count  Dtype  \n",
      "---  ------     --------------  -----  \n",
      " 0   1. open    5536 non-null   float64\n",
      " 1   2. high    5536 non-null   float64\n",
      " 2   3. low     5536 non-null   float64\n",
      " 3   4. close   5536 non-null   float64\n",
      " 4   5. volume  5536 non-null   float64\n",
      "dtypes: float64(5)\n",
      "memory usage: 259.5+ KB\n"
     ]
    }
   ],
   "source": [
    "df.info()"
   ]
  },
  {
   "cell_type": "code",
   "execution_count": 32,
   "metadata": {},
   "outputs": [
    {
     "data": {
      "text/plain": [
       "Index(['2021-10-29', '2021-10-28', '2021-10-27', '2021-10-26', '2021-10-25',\n",
       "       '2021-10-22', '2021-10-21', '2021-10-20', '2021-10-19', '2021-10-18',\n",
       "       ...\n",
       "       '1999-11-12', '1999-11-11', '1999-11-10', '1999-11-09', '1999-11-08',\n",
       "       '1999-11-05', '1999-11-04', '1999-11-03', '1999-11-02', '1999-11-01'],\n",
       "      dtype='object', length=5536)"
      ]
     },
     "execution_count": 32,
     "metadata": {},
     "output_type": "execute_result"
    }
   ],
   "source": [
    "df.index"
   ]
  },
  {
   "cell_type": "code",
   "execution_count": 36,
   "metadata": {},
   "outputs": [
    {
     "name": "stdout",
     "output_type": "stream",
     "text": [
      "datetime64[ns]\n"
     ]
    },
    {
     "data": {
      "text/html": [
       "<div>\n",
       "<style scoped>\n",
       "    .dataframe tbody tr th:only-of-type {\n",
       "        vertical-align: middle;\n",
       "    }\n",
       "\n",
       "    .dataframe tbody tr th {\n",
       "        vertical-align: top;\n",
       "    }\n",
       "\n",
       "    .dataframe thead th {\n",
       "        text-align: right;\n",
       "    }\n",
       "</style>\n",
       "<table border=\"1\" class=\"dataframe\">\n",
       "  <thead>\n",
       "    <tr style=\"text-align: right;\">\n",
       "      <th></th>\n",
       "      <th>1. open</th>\n",
       "      <th>2. high</th>\n",
       "      <th>3. low</th>\n",
       "      <th>4. close</th>\n",
       "      <th>5. volume</th>\n",
       "    </tr>\n",
       "  </thead>\n",
       "  <tbody>\n",
       "    <tr>\n",
       "      <th>2021-10-29</th>\n",
       "      <td>147.215</td>\n",
       "      <td>149.940</td>\n",
       "      <td>146.4128</td>\n",
       "      <td>149.80</td>\n",
       "      <td>124953168.0</td>\n",
       "    </tr>\n",
       "    <tr>\n",
       "      <th>2021-10-28</th>\n",
       "      <td>149.820</td>\n",
       "      <td>153.165</td>\n",
       "      <td>149.7200</td>\n",
       "      <td>152.57</td>\n",
       "      <td>100077888.0</td>\n",
       "    </tr>\n",
       "    <tr>\n",
       "      <th>2021-10-27</th>\n",
       "      <td>149.360</td>\n",
       "      <td>149.730</td>\n",
       "      <td>148.4900</td>\n",
       "      <td>148.85</td>\n",
       "      <td>56094929.0</td>\n",
       "    </tr>\n",
       "    <tr>\n",
       "      <th>2021-10-26</th>\n",
       "      <td>149.330</td>\n",
       "      <td>150.840</td>\n",
       "      <td>149.0101</td>\n",
       "      <td>149.32</td>\n",
       "      <td>60893395.0</td>\n",
       "    </tr>\n",
       "    <tr>\n",
       "      <th>2021-10-25</th>\n",
       "      <td>148.680</td>\n",
       "      <td>149.370</td>\n",
       "      <td>147.6211</td>\n",
       "      <td>148.64</td>\n",
       "      <td>50720556.0</td>\n",
       "    </tr>\n",
       "  </tbody>\n",
       "</table>\n",
       "</div>"
      ],
      "text/plain": [
       "            1. open  2. high    3. low  4. close    5. volume\n",
       "2021-10-29  147.215  149.940  146.4128    149.80  124953168.0\n",
       "2021-10-28  149.820  153.165  149.7200    152.57  100077888.0\n",
       "2021-10-27  149.360  149.730  148.4900    148.85   56094929.0\n",
       "2021-10-26  149.330  150.840  149.0101    149.32   60893395.0\n",
       "2021-10-25  148.680  149.370  147.6211    148.64   50720556.0"
      ]
     },
     "execution_count": 36,
     "metadata": {},
     "output_type": "execute_result"
    }
   ],
   "source": [
    "df.index = pd.to_datetime(df.index)\n",
    "print(df.index.dtype)\n",
    "df.head()"
   ]
  },
  {
   "cell_type": "code",
   "execution_count": 39,
   "metadata": {},
   "outputs": [
    {
     "data": {
      "text/html": [
       "<div>\n",
       "<style scoped>\n",
       "    .dataframe tbody tr th:only-of-type {\n",
       "        vertical-align: middle;\n",
       "    }\n",
       "\n",
       "    .dataframe tbody tr th {\n",
       "        vertical-align: top;\n",
       "    }\n",
       "\n",
       "    .dataframe thead th {\n",
       "        text-align: right;\n",
       "    }\n",
       "</style>\n",
       "<table border=\"1\" class=\"dataframe\">\n",
       "  <thead>\n",
       "    <tr style=\"text-align: right;\">\n",
       "      <th></th>\n",
       "      <th>1. open</th>\n",
       "      <th>2. high</th>\n",
       "      <th>3. low</th>\n",
       "      <th>4. close</th>\n",
       "      <th>5. volume</th>\n",
       "    </tr>\n",
       "  </thead>\n",
       "  <tbody>\n",
       "    <tr>\n",
       "      <th>2021-10-29</th>\n",
       "      <td>147.215</td>\n",
       "      <td>149.940</td>\n",
       "      <td>146.4128</td>\n",
       "      <td>149.80</td>\n",
       "      <td>124953168.0</td>\n",
       "    </tr>\n",
       "    <tr>\n",
       "      <th>2021-10-28</th>\n",
       "      <td>149.820</td>\n",
       "      <td>153.165</td>\n",
       "      <td>149.7200</td>\n",
       "      <td>152.57</td>\n",
       "      <td>100077888.0</td>\n",
       "    </tr>\n",
       "    <tr>\n",
       "      <th>2021-10-27</th>\n",
       "      <td>149.360</td>\n",
       "      <td>149.730</td>\n",
       "      <td>148.4900</td>\n",
       "      <td>148.85</td>\n",
       "      <td>56094929.0</td>\n",
       "    </tr>\n",
       "    <tr>\n",
       "      <th>2021-10-26</th>\n",
       "      <td>149.330</td>\n",
       "      <td>150.840</td>\n",
       "      <td>149.0101</td>\n",
       "      <td>149.32</td>\n",
       "      <td>60893395.0</td>\n",
       "    </tr>\n",
       "    <tr>\n",
       "      <th>2021-10-25</th>\n",
       "      <td>148.680</td>\n",
       "      <td>149.370</td>\n",
       "      <td>147.6211</td>\n",
       "      <td>148.64</td>\n",
       "      <td>50720556.0</td>\n",
       "    </tr>\n",
       "    <tr>\n",
       "      <th>2021-10-22</th>\n",
       "      <td>149.690</td>\n",
       "      <td>150.180</td>\n",
       "      <td>148.6400</td>\n",
       "      <td>148.69</td>\n",
       "      <td>58883443.0</td>\n",
       "    </tr>\n",
       "    <tr>\n",
       "      <th>2021-10-21</th>\n",
       "      <td>148.810</td>\n",
       "      <td>149.640</td>\n",
       "      <td>147.8700</td>\n",
       "      <td>149.48</td>\n",
       "      <td>61420990.0</td>\n",
       "    </tr>\n",
       "  </tbody>\n",
       "</table>\n",
       "</div>"
      ],
      "text/plain": [
       "            1. open  2. high    3. low  4. close    5. volume\n",
       "2021-10-29  147.215  149.940  146.4128    149.80  124953168.0\n",
       "2021-10-28  149.820  153.165  149.7200    152.57  100077888.0\n",
       "2021-10-27  149.360  149.730  148.4900    148.85   56094929.0\n",
       "2021-10-26  149.330  150.840  149.0101    149.32   60893395.0\n",
       "2021-10-25  148.680  149.370  147.6211    148.64   50720556.0\n",
       "2021-10-22  149.690  150.180  148.6400    148.69   58883443.0\n",
       "2021-10-21  148.810  149.640  147.8700    149.48   61420990.0"
      ]
     },
     "execution_count": 39,
     "metadata": {},
     "output_type": "execute_result"
    }
   ],
   "source": [
    "df.loc[\"2021-10-20\" : \"2021-10-29\"]"
   ]
  }
 ],
 "metadata": {
  "interpreter": {
   "hash": "565b6c316ba45907f7805e673429f36c940e43d28197fa7d3b8c4b4d7e10672c"
  },
  "kernelspec": {
   "display_name": "Python 3.9.6 64-bit ('DataBehandling-KunHan-DAT1fURC': pipenv)",
   "name": "python3"
  },
  "language_info": {
   "codemirror_mode": {
    "name": "ipython",
    "version": 3
   },
   "file_extension": ".py",
   "mimetype": "text/x-python",
   "name": "python",
   "nbconvert_exporter": "python",
   "pygments_lexer": "ipython3",
   "version": "3.9.6"
  },
  "orig_nbformat": 4
 },
 "nbformat": 4,
 "nbformat_minor": 2
}
